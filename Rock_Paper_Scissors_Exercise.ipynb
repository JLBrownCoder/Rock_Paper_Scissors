{
 "cells": [
  {
   "cell_type": "code",
   "execution_count": null,
   "id": "f2d6c1c9",
   "metadata": {},
   "outputs": [
    {
     "name": "stdout",
     "output_type": "stream",
     "text": [
      "Let's play Rock Paper Scissors.\n"
     ]
    },
    {
     "name": "stdout",
     "output_type": "stream",
     "text": [
      "User chose 'rock' and computer chose 'scissors'.\n",
      "User wins! Rock beats scissors!\n"
     ]
    }
   ],
   "source": [
    "import random\n",
    "print(\"Let's play Rock Paper Scissors.\")\n",
    "options = [\"rock\", \"paper\", \"scissors\"]\n",
    "\n",
    "# Get player input\n",
    "player_input = input(\"Type rock, paper, or scissors: \")\n",
    "\n",
    "# Computer choice\n",
    "computer_response = random.choice(options)\n",
    "\n",
    "if player_input != \"rock\" and player_input != \"paper\" and player_input != \"scissors\":\n",
    "    print('Invalid choice. Please type either rock, paper, or scissors.')\n",
    "else:\n",
    "    if player_input == \"rock\" and computer_response == \"scissors\":\n",
    "        print(\"User chose 'rock' and computer chose 'scissors'.\")\n",
    "        print(\"User wins! Rock beats scissors!\")\n",
    "    elif player_input == \"rock\" and computer_response == \"paper\":\n",
    "        print(\"User chose 'rock' and computer chose 'paper'.\")\n",
    "        print(\"Computer wins! Paper beats rock!\")\n",
    "    elif player_input == \"rock\" and computer_response == \"rock\":\n",
    "        print(\"User chose 'rock' and computer chose 'rock'.\")\n",
    "        print(\"It's a tie!\")\n",
    "    elif player_input == \"scissors\" and computer_response == \"rock\":\n",
    "        print(\"User chose 'scissors' and computer chose 'rock'.\")\n",
    "        print(\"Computer wins! Rock beats scissors!\")\n",
    "    elif player_input == \"scissors\" and computer_response == \"scissors\":\n",
    "        print(\"User chose 'scissors' and computer chose 'scissors'.\")\n",
    "        print(\"It's a tie!\")\n",
    "    elif player_input == \"scissors\" and computer_response == \"paper\":\n",
    "        print(\"User chose 'scissors' and computer chose 'paper'.\")\n",
    "        print(\"User wins! Scissors beats paper!\")\n",
    "    elif player_input == \"paper\" and computer_response == \"paper\":\n",
    "        print(\"User chose 'paper' and computer chose 'paper'.\")\n",
    "        print(\"It's a tie!\")\n",
    "    elif player_input == \"paper\" and computer_response == \"scissors\":\n",
    "        print(\"User chose 'paper' and computer chose 'scissors'.\")\n",
    "        print(\"Computer wins! Scissors beats paper!\")\n",
    "    elif player_input == \"paper\" and computer_response == \"rock\":\n",
    "        print(\"User chose 'paper' and computer chose 'rock'.\")\n",
    "        print(\"User wins! Paper beats rock!\")"
   ]
  },
  {
   "cell_type": "code",
   "execution_count": null,
   "id": "cce976f3",
   "metadata": {},
   "outputs": [],
   "source": []
  }
 ],
 "metadata": {
  "kernelspec": {
   "display_name": "Python 3",
   "language": "python",
   "name": "python3"
  },
  "language_info": {
   "codemirror_mode": {
    "name": "ipython",
    "version": 3
   },
   "file_extension": ".py",
   "mimetype": "text/x-python",
   "name": "python",
   "nbconvert_exporter": "python",
   "pygments_lexer": "ipython3",
   "version": "3.13.5"
  }
 },
 "nbformat": 4,
 "nbformat_minor": 5
}
