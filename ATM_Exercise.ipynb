{
 "cells": [
  {
   "cell_type": "code",
   "execution_count": null,
   "id": "8d426c87",
   "metadata": {},
   "outputs": [
    {
     "name": "stdout",
     "output_type": "stream",
     "text": [
      "Access Granted\n",
      "Money is issued\n",
      "Remaining balance is:  9500\n"
     ]
    }
   ],
   "source": [
    "PIN = 789124\n",
    "Balance_789124 = 10000\n",
    "PIN_Input = int(input(\"Enter your pin: \"))\n",
    "if PIN_Input == PIN:\n",
    "    print(\"Access Granted\")\n",
    "    withdrawal = int(input(\"Enter amount to be withdrawn: \"))\n",
    "    if withdrawal > 0 and withdrawal <= Balance_789124:\n",
    "        print(\"Money is issued\")  \n",
    "        print(\"Remaining balance is: \", Balance_789124 - withdrawal)\n",
    "    else:\n",
    "        print(\"Insufficient funds or invalid amount\")\n",
    "else:\n",
    "    print(\"Access denied\")"
   ]
  }
 ],
 "metadata": {
  "kernelspec": {
   "display_name": "Python 3",
   "language": "python",
   "name": "python3"
  },
  "language_info": {
   "codemirror_mode": {
    "name": "ipython",
    "version": 3
   },
   "file_extension": ".py",
   "mimetype": "text/x-python",
   "name": "python",
   "nbconvert_exporter": "python",
   "pygments_lexer": "ipython3",
   "version": "3.13.5"
  }
 },
 "nbformat": 4,
 "nbformat_minor": 5
}
